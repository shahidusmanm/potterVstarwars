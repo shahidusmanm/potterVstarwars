{
 "cells": [
  {
   "cell_type": "code",
   "execution_count": 1,
   "id": "0d58a6e5",
   "metadata": {},
   "outputs": [],
   "source": [
    "import skl2onnx\n",
    "import onnx\n",
    "import sklearn\n",
    "import numpy as np\n",
    "import onnxruntime as rt\n",
    "from skl2onnx.common.data_types import FloatTensorType\n",
    "from skl2onnx import convert_sklearn\n",
    "from sklearn.model_selection import train_test_split\n",
    "from sklearn.ensemble import RandomForestClassifier\n",
    "import pandas as pd"
   ]
  },
  {
   "cell_type": "code",
   "execution_count": 2,
   "id": "b057a4d3",
   "metadata": {},
   "outputs": [
    {
     "data": {
      "text/plain": [
       "((583, 4), (251, 4), (583,), (251,))"
      ]
     },
     "execution_count": 2,
     "metadata": {},
     "output_type": "execute_result"
    }
   ],
   "source": [
    "features_df = pd.read_csv('features.csv')\n",
    "\n",
    "X_train, X_val, y_train, y_val = train_test_split(features_df [['power','pitch_mean','pitch_sd','voiced_fr']], features_df['label'], test_size=0.3)\n",
    "X_train.shape, X_val.shape, y_train.shape, y_val.shape"
   ]
  },
  {
   "cell_type": "code",
   "execution_count": null,
   "id": "1199325b",
   "metadata": {},
   "outputs": [],
   "source": [
    "mean = X_train.mean(0)\n",
    "sd =  X_train.std(0)\n",
    "\n",
    "X_train = (X_train-mean)/sd\n",
    "X_val  = (X_val-mean)/sd\n",
    "\n",
    "model  = RandomForestClassifier(max_depth=8, random_state=0)\n",
    "model.fit(X_train,y_train)\n",
    "\n",
    "yt_p = model.predict(X_train)\n",
    "yv_p = model.predict(X_val)\n",
    "\n",
    "training_acc = np.mean(yt_p==y_train)\n",
    "validation_acc = np.mean(yv_p==y_val)\n",
    "\n",
    "print('Training Accuracy', training_acc)\n",
    "print('Validation  Accuracy', validation_acc)\n",
    "\n"
   ]
  },
  {
   "cell_type": "code",
   "execution_count": null,
   "id": "6d2b01f1",
   "metadata": {},
   "outputs": [],
   "source": [
    "initial_type = [('float_input', FloatTensorType([None, X_train.shape[1]]))]\n",
    "onx = convert_sklearn(model, initial_types=initial_type,\n",
    "                      target_opset=12)\n",
    "\n",
    "with open(\"RF_iris.onnx\", \"wb\") as f:\n",
    "    f.write(onx.SerializeToString())"
   ]
  },
  {
   "cell_type": "code",
   "execution_count": 3,
   "id": "0d29bdbe",
   "metadata": {},
   "outputs": [],
   "source": [
    "sess = rt.InferenceSession(\"RF_iris.onnx\")\n",
    "input_name = sess.get_inputs()[0].name\n",
    "label_name = sess.get_outputs()[0].name\n",
    "pred_onx = sess.run([label_name],\n",
    "                    {input_name: X_val.to_numpy().astype(np.float32)})[0]"
   ]
  },
  {
   "cell_type": "code",
   "execution_count": 4,
   "id": "2d183853",
   "metadata": {},
   "outputs": [
    {
     "data": {
      "text/plain": [
       "0.5099601593625498"
      ]
     },
     "execution_count": 4,
     "metadata": {},
     "output_type": "execute_result"
    }
   ],
   "source": [
    "from sklearn.metrics import accuracy_score\n",
    "\n",
    "accuracy_score(y_val, pred_onx)"
   ]
  },
  {
   "cell_type": "code",
   "execution_count": null,
   "id": "e355798a",
   "metadata": {},
   "outputs": [],
   "source": [
    "X_val.to_numpy()"
   ]
  },
  {
   "cell_type": "code",
   "execution_count": 5,
   "id": "34eee8a6",
   "metadata": {},
   "outputs": [
    {
     "data": {
      "text/plain": [
       "list"
      ]
     },
     "execution_count": 5,
     "metadata": {},
     "output_type": "execute_result"
    }
   ],
   "source": [
    "type(pred_onx.tolist())"
   ]
  },
  {
   "cell_type": "code",
   "execution_count": 19,
   "id": "2dea0fbb",
   "metadata": {},
   "outputs": [],
   "source": [
    "X_dp = pd.DataFrame([0.195328529, 399.2141388, 34.43785081, 0.686934023]).T\n",
    "\n",
    "\n",
    "sess = rt.InferenceSession(\"RF_iris.onnx\")\n",
    "input_name = sess.get_inputs()[0].name\n",
    "label_name = sess.get_outputs()[0].name\n",
    "pred_onx = sess.run([label_name],\n",
    "                    {input_name: X_dp.to_numpy().astype(np.float32)})[0]"
   ]
  },
  {
   "cell_type": "code",
   "execution_count": 20,
   "id": "b57b7058",
   "metadata": {},
   "outputs": [
    {
     "data": {
      "text/plain": [
       "array(['Starwars'], dtype=object)"
      ]
     },
     "execution_count": 20,
     "metadata": {},
     "output_type": "execute_result"
    }
   ],
   "source": [
    "pred_onx"
   ]
  },
  {
   "cell_type": "code",
   "execution_count": null,
   "id": "067610fb",
   "metadata": {},
   "outputs": [],
   "source": []
  }
 ],
 "metadata": {
  "kernelspec": {
   "display_name": "Python 3 (ipykernel)",
   "language": "python",
   "name": "python3"
  },
  "language_info": {
   "codemirror_mode": {
    "name": "ipython",
    "version": 3
   },
   "file_extension": ".py",
   "mimetype": "text/x-python",
   "name": "python",
   "nbconvert_exporter": "python",
   "pygments_lexer": "ipython3",
   "version": "3.8.12"
  }
 },
 "nbformat": 4,
 "nbformat_minor": 5
}
